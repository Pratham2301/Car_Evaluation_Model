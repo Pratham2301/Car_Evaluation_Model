{
 "cells": [
  {
   "cell_type": "markdown",
   "id": "d8752115",
   "metadata": {},
   "source": [
    "## Car Evaluation Model using KNN\n",
    "\n"
   ]
  },
  {
   "cell_type": "markdown",
   "id": "c7c03509",
   "metadata": {},
   "source": [
    "## Importing Libraries"
   ]
  },
  {
   "cell_type": "code",
   "execution_count": 56,
   "id": "eadd22ab",
   "metadata": {},
   "outputs": [],
   "source": [
    "import numpy\n",
    "import pandas\n",
    "from keras.utils import np_utils\n",
    "import matplotlib.pyplot as plt\n",
    "from keras.utils import to_categorical"
   ]
  },
  {
   "cell_type": "code",
   "execution_count": 57,
   "id": "7bbb3e94",
   "metadata": {},
   "outputs": [],
   "source": [
    "from sklearn.preprocessing import LabelEncoder\n",
    "from sklearn.model_selection import train_test_split\n",
    "from sklearn.neighbors import KNeighborsClassifier\n",
    "from sklearn.metrics import accuracy_score"
   ]
  },
  {
   "cell_type": "markdown",
   "id": "9a179aee",
   "metadata": {},
   "source": [
    "## load dataset"
   ]
  },
  {
   "cell_type": "code",
   "execution_count": 58,
   "id": "c14804b4",
   "metadata": {},
   "outputs": [],
   "source": [
    "dataframe = pandas.read_csv(r\"../DATASET/car_evaluation.csv\")"
   ]
  },
  {
   "cell_type": "markdown",
   "id": "652153b7",
   "metadata": {},
   "source": [
    "## Assign names to Columns"
   ]
  },
  {
   "cell_type": "code",
   "execution_count": 59,
   "id": "f0039bea",
   "metadata": {},
   "outputs": [],
   "source": [
    "dataframe.columns = ['buying','maint','doors','persons','lug_boot','safety','classes']"
   ]
  },
  {
   "cell_type": "markdown",
   "id": "5dd50396",
   "metadata": {},
   "source": [
    "## Encode Data"
   ]
  },
  {
   "cell_type": "code",
   "execution_count": 60,
   "id": "a3d56e1e",
   "metadata": {},
   "outputs": [],
   "source": [
    "dataframe.buying.replace(\n",
    "    ('vhigh','high','med','low'),\n",
    "    (1,2,3,4), \n",
    "    inplace=True\n",
    ")\n",
    "\n",
    "\n",
    "dataframe.maint.replace(\n",
    "    ('vhigh','high','med','low'),\n",
    "    (1,2,3,4), \n",
    "    inplace=True\n",
    ")\n",
    "\n",
    "\n",
    "dataframe.doors.replace(\n",
    "    ('2','3','4','5more'),\n",
    "    (1,2,3,4), \n",
    "    inplace=True\n",
    ")\n",
    "\n",
    "dataframe.persons.replace(\n",
    "    ('2','4','more'),\n",
    "    (1,2,3), \n",
    "    inplace=True\n",
    ")\n",
    "\n",
    "\n",
    "dataframe.lug_boot.replace(\n",
    "    ('small','med','big'),\n",
    "    (1,2,3), \n",
    "    inplace=True\n",
    ")\n",
    "\n",
    "\n",
    "dataframe.safety.replace(\n",
    "    ('low','med','high'),\n",
    "    (1,2,3), \n",
    "    inplace=True\n",
    ")\n",
    "\n",
    "\n",
    "dataframe.classes.replace(\n",
    "    ('unacc','acc','good','vgood'),\n",
    "    (1,2,3,4), \n",
    "    inplace=True\n",
    ")"
   ]
  },
  {
   "cell_type": "markdown",
   "id": "51a1f71b",
   "metadata": {},
   "source": [
    "## View first 5 records"
   ]
  },
  {
   "cell_type": "code",
   "execution_count": 61,
   "id": "0eab8e26",
   "metadata": {},
   "outputs": [
    {
     "name": "stdout",
     "output_type": "stream",
     "text": [
      "dataframe.head:     buying  maint  doors  persons  lug_boot  safety  classes\n",
      "0       1      1      1        1         1       2        1\n",
      "1       1      1      1        1         1       3        1\n",
      "2       1      1      1        1         2       1        1\n",
      "3       1      1      1        1         2       2        1\n",
      "4       1      1      1        1         2       3        1\n"
     ]
    }
   ],
   "source": [
    "print(\"dataframe.head: \", dataframe.head())"
   ]
  },
  {
   "cell_type": "markdown",
   "id": "b7bd8066",
   "metadata": {},
   "source": [
    "## Description"
   ]
  },
  {
   "cell_type": "code",
   "execution_count": 62,
   "id": "17614121",
   "metadata": {},
   "outputs": [
    {
     "name": "stdout",
     "output_type": "stream",
     "text": [
      "dataframe.describe:              buying        maint        doors      persons     lug_boot  \\\n",
      "count  1727.000000  1727.000000  1727.000000  1727.000000  1727.000000   \n",
      "mean      2.500869     2.500869     2.500869     2.000579     2.000579   \n",
      "std       1.118098     1.118098     1.118098     0.816615     0.816615   \n",
      "min       1.000000     1.000000     1.000000     1.000000     1.000000   \n",
      "25%       2.000000     2.000000     2.000000     1.000000     1.000000   \n",
      "50%       3.000000     3.000000     3.000000     2.000000     2.000000   \n",
      "75%       3.500000     3.500000     3.500000     3.000000     3.000000   \n",
      "max       4.000000     4.000000     4.000000     3.000000     3.000000   \n",
      "\n",
      "            safety      classes  \n",
      "count  1727.000000  1727.000000  \n",
      "mean      2.000579     1.415171  \n",
      "std       0.816615     0.740847  \n",
      "min       1.000000     1.000000  \n",
      "25%       1.000000     1.000000  \n",
      "50%       2.000000     1.000000  \n",
      "75%       3.000000     2.000000  \n",
      "max       3.000000     4.000000  \n"
     ]
    }
   ],
   "source": [
    "print(\"dataframe.describe: \", dataframe.describe())"
   ]
  },
  {
   "cell_type": "markdown",
   "id": "5312e017",
   "metadata": {},
   "source": [
    "## Plotting Histogram"
   ]
  },
  {
   "cell_type": "code",
   "execution_count": 63,
   "id": "c62dbd9e",
   "metadata": {},
   "outputs": [
    {
     "data": {
      "text/plain": [
       "(array([1209.,    0.,    0.,  384.,    0.,    0.,   69.,    0.,    0.,\n",
       "          65.]),\n",
       " array([1. , 1.3, 1.6, 1.9, 2.2, 2.5, 2.8, 3.1, 3.4, 3.7, 4. ]),\n",
       " <BarContainer object of 10 artists>)"
      ]
     },
     "execution_count": 63,
     "metadata": {},
     "output_type": "execute_result"
    },
    {
     "data": {
      "image/png": "[encoded data removed]",
      "text/plain": [
       "<Figure size 640x480 with 1 Axes>"
      ]
     },
     "metadata": {},
     "output_type": "display_data"
    }
   ],
   "source": [
    "plt.hist((dataframe.classes))"
   ]
  },
  {
   "cell_type": "code",
   "execution_count": 64,
   "id": "e30b35f2",
   "metadata": {},
   "outputs": [
    {
     "data": {
      "text/plain": [
       "array([[<AxesSubplot:title={'center':'buying'}>,\n",
       "        <AxesSubplot:title={'center':'maint'}>,\n",
       "        <AxesSubplot:title={'center':'doors'}>],\n",
       "       [<AxesSubplot:title={'center':'persons'}>,\n",
       "        <AxesSubplot:title={'center':'lug_boot'}>,\n",
       "        <AxesSubplot:title={'center':'safety'}>],\n",
       "       [<AxesSubplot:title={'center':'classes'}>, <AxesSubplot:>,\n",
       "        <AxesSubplot:>]], dtype=object)"
      ]
     },
     "execution_count": 64,
     "metadata": {},
     "output_type": "execute_result"
    },
    {
     "data": {
      "image/png": "[encoded data removed]",
      "text/plain": [
       "<Figure size 640x480 with 9 Axes>"
      ]
     },
     "metadata": {},
     "output_type": "display_data"
    }
   ],
   "source": [
    "dataframe.hist()"
   ]
  },
  {
   "cell_type": "markdown",
   "id": "b1a7c583",
   "metadata": {},
   "source": [
    "## Training"
   ]
  },
  {
   "cell_type": "code",
   "execution_count": 65,
   "id": "877719dd",
   "metadata": {},
   "outputs": [
    {
     "name": "stdout",
     "output_type": "stream",
     "text": [
      "0.9450867052023122\n",
      "0.9219653179190751\n",
      "0.9450867052023122\n",
      "0.8988439306358381\n",
      "0.9364161849710982\n",
      "0.930635838150289\n",
      "0.9161849710982659\n",
      "0.9075144508670521\n",
      "0.9682080924855492\n",
      "0.9161849710982659\n",
      "0.9450867052023122\n",
      "0.9479768786127167\n",
      "0.9190751445086706\n",
      "0.9335260115606936\n",
      "0.9479768786127167\n",
      "0.9450867052023122\n",
      "0.9161849710982659\n",
      "0.9132947976878613\n",
      "0.9190751445086706\n",
      "0.9335260115606936\n",
      "0.9190751445086706\n",
      "0.9393063583815029\n",
      "0.9104046242774566\n",
      "0.9075144508670521\n",
      "0.9190751445086706\n",
      "0.9161849710982659\n",
      "0.9335260115606936\n",
      "0.9508670520231214\n",
      "0.9219653179190751\n",
      "0.9393063583815029\n"
     ]
    }
   ],
   "source": [
    "max_accuracy = 0\n",
    "min_accuracy = 200\n",
    "\n",
    "loops = 30\n",
    "\n",
    "predictions = []\n",
    "\n",
    "for i in range(loops):\n",
    "    \n",
    "    dataset = dataframe.values\n",
    "\n",
    "\n",
    "    X = dataset[:,0:6]\n",
    "    Y = numpy.asarray(dataset[:,6], dtype=\"S6\")\n",
    "\n",
    "\n",
    "    # Split Data to Train and Test\n",
    "    X_Train, X_Test, Y_Train, Y_Test = train_test_split(X, Y, test_size=0.2)\n",
    "    \n",
    "    # create model\n",
    "    knn = KNeighborsClassifier()\n",
    "\n",
    "    knn.fit(X_Train, Y_Train)\n",
    "\n",
    "    predictions = knn.predict(X_Test)\n",
    "\n",
    "    score = accuracy_score(Y_Test, predictions)\n",
    "    \n",
    "    max_accuracy = max(max_accuracy, score)\n",
    "    min_accuracy = min(min_accuracy, score)\n",
    "    \n",
    "    print(score)"
   ]
  },
  {
   "cell_type": "code",
   "execution_count": 66,
   "id": "57ccc703",
   "metadata": {},
   "outputs": [
    {
     "name": "stdout",
     "output_type": "stream",
     "text": [
      "max_accuracy :  0.9682080924855492\n",
      "min_accuracy :  0.8988439306358381\n"
     ]
    }
   ],
   "source": [
    "print(\"max_accuracy : \", max_accuracy)\n",
    "print(\"min_accuracy : \", min_accuracy)"
   ]
  },
  {
   "cell_type": "code",
   "execution_count": 67,
   "id": "e7d9219d",
   "metadata": {},
   "outputs": [
    {
     "name": "stdout",
     "output_type": "stream",
     "text": [
      "Confusion matrix\n",
      "\n",
      " [[255   0   0   0]\n",
      " [ 11  62   0   0]\n",
      " [  2   4   4   0]\n",
      " [  0   2   2   4]]\n"
     ]
    }
   ],
   "source": [
    "from sklearn.metrics import confusion_matrix\n",
    "cm = confusion_matrix(Y_Test, predictions)\n",
    "print('Confusion matrix\\n\\n', cm)"
   ]
  },
  {
   "cell_type": "markdown",
   "id": "3017be22",
   "metadata": {},
   "source": [
    "## Plot the confusion matrix."
   ]
  },
  {
   "cell_type": "code",
   "execution_count": 68,
   "id": "c21460b2",
   "metadata": {},
   "outputs": [
    {
     "data": {
      "image/png": "[encoded data removed]",
      "text/plain": [
       "<Figure size 640x480 with 2 Axes>"
      ]
     },
     "metadata": {},
     "output_type": "display_data"
    }
   ],
   "source": [
    "import seaborn as sns\n",
    "import matplotlib.pyplot as plt\n",
    "\n",
    "\n",
    "sns.heatmap(cm,\n",
    "            annot=True,\n",
    "            fmt='g',\n",
    "            xticklabels=['not_acc','acc', 'good', 'v_good'],\n",
    "            yticklabels=['not_acc','acc', 'good', 'v_good'])\n",
    "\n",
    "\n",
    "plt.ylabel('Prediction',fontsize=13)\n",
    "plt.xlabel('Actual',fontsize=13)\n",
    "plt.title('Confusion Matrix',fontsize=17)\n",
    "plt.show()"
   ]
  },
  {
   "cell_type": "code",
   "execution_count": 69,
   "id": "83c55d12",
   "metadata": {},
   "outputs": [
    {
     "name": "stdout",
     "output_type": "stream",
     "text": [
      "              precision    recall  f1-score   support\n",
      "\n",
      "        b'1'       0.95      1.00      0.98       255\n",
      "        b'2'       0.91      0.85      0.88        73\n",
      "        b'3'       0.67      0.40      0.50        10\n",
      "        b'4'       1.00      0.50      0.67         8\n",
      "\n",
      "    accuracy                           0.94       346\n",
      "   macro avg       0.88      0.69      0.76       346\n",
      "weighted avg       0.94      0.94      0.93       346\n",
      "\n"
     ]
    }
   ],
   "source": [
    "from sklearn.metrics import classification_report\n",
    "print(classification_report(Y_Test, predictions))"
   ]
  },
  {
   "cell_type": "code",
   "execution_count": null,
   "id": "52a3350a",
   "metadata": {},
   "outputs": [],
   "source": []
  }
 ],
 "metadata": {
  "kernelspec": {
   "display_name": "Python 3 (ipykernel)",
   "language": "python",
   "name": "python3"
  },
  "language_info": {
   "codemirror_mode": {
    "name": "ipython",
    "version": 3
   },
   "file_extension": ".py",
   "mimetype": "text/x-python",
   "name": "python",
   "nbconvert_exporter": "python",
   "pygments_lexer": "ipython3",
   "version": "3.10.1"
  }
 },
 "nbformat": 4,
 "nbformat_minor": 5
}
